{
  "nbformat": 4,
  "nbformat_minor": 0,
  "metadata": {
    "colab": {
      "name": "수업01. 파이썬 숫자연산.ipynb",
      "provenance": [],
      "collapsed_sections": [
        "xujRnR5j173A",
        "hpuO7tId173I",
        "Bcw9n8RE173V"
      ],
      "authorship_tag": "ABX9TyPLsViVYExJrum5W5vg+se1",
      "include_colab_link": true
    },
    "kernelspec": {
      "name": "python3",
      "display_name": "Python 3"
    },
    "language_info": {
      "name": "python"
    }
  },
  "cells": [
    {
      "cell_type": "markdown",
      "metadata": {
        "id": "view-in-github",
        "colab_type": "text"
      },
      "source": [
        "<a href=\"https://colab.research.google.com/github/yoosicum/2022year/blob/main/%EC%88%98%EC%97%8501_%ED%8C%8C%EC%9D%B4%EC%8D%AC_%EC%88%AB%EC%9E%90%EC%97%B0%EC%82%B0.ipynb\" target=\"_parent\"><img src=\"https://colab.research.google.com/assets/colab-badge.svg\" alt=\"Open In Colab\"/></a>"
      ]
    },
    {
      "cell_type": "markdown",
      "source": [
        "# 파이썬 실습 입문\n",
        "\n",
        "\n",
        "\n",
        "**인공지능 기초 [엄유식]**"
      ],
      "metadata": {
        "id": "yeeb-wocVmHh"
      }
    },
    {
      "cell_type": "markdown",
      "metadata": {
        "id": "0z2MIsqZdxQW"
      },
      "source": [
        "# 주석(comment)\n",
        " <!-- replaced margin -->\n",
        "\n",
        "- 위 코드에서 <kbd>#</kbd> 기호는 주석(설명문, comment)을 뜻하는 기호\n",
        "- 주석 기호 다음의 글자들은 사람들의 이해를 돕기 위한 것 \n",
        "  - 컴퓨터는 주석 기호 다음의 글자를 무시한다. \n",
        "  - 따라서 연습할 때는 주석은 입력하지 않아도 된다."
      ]
    },
    {
      "cell_type": "markdown",
      "metadata": {
        "school_cell_uuid": "ee83b9d690b041ff9d2d0f76c0dfe91b",
        "id": "87I0uYKlh_dc"
      },
      "source": [
        "## REPL(Read–Eval–Print Loop) 실행 방식\n",
        "<hr style=\"height:7px;border-width:0;color:gray;background-color:royalblue\">\n",
        "\n",
        "- REPL(Read–Eval–Print Loop, '레플'이라고 읽는다) 방식은 구글 코랩에서 콘솔을 실행해서 명령어를 한 줄씩 입력하며 실행 상황을 지켜보는 방식\n",
        "- 파이썬 프로그래밍을 공부하거나 코드의 초기 버전을 제작할 때 유용한 방식\n",
        "- 수업시간 동안 모든 코드를 REPL 방식으로 실행하면서 공부할 예정\n",
        "\n",
        "- 아래의 코드셀에 다음의 파이썬 코드를 입력\n",
        "\n",
        "```\n",
        "  print(\"Hello\")\n",
        "```\n",
        "\n",
        "- 코드를 입력한 후에 <kbd>shift</kbd> + <kbd>Enter</kbd> 키를 누르면 현재 셀이 실행되며 결과가 출력\n"
      ]
    },
    {
      "cell_type": "markdown",
      "metadata": {
        "school_cell_uuid": "fdf051bd208843faa559e91ebd676285",
        "id": "SMyRhzsPh_dd"
      },
      "source": [
        "- 다음과 같은 명령을 한 줄씩 입력해보자. \n",
        "- 한 줄을 입력할 때마다 <kbd>shift</kbd>+<kbd>Enter</kbd> 키를 누르고 결과를 살펴보자\n",
        "- 변수 ``x``에 1이라는 값을 넣고, 변수 ``y``에 2를 넣은 후 변수 ``z``에 변수 ``x``와  ``y`` 변숫값을 더해서 넣자.\n",
        "\n",
        "```\n",
        "x = 1\n",
        "```\n",
        "<kbd>shift</kbd>+<kbd>Enter</kbd>\n",
        "```\n",
        "x\n",
        "```\n",
        "<kbd>shift</kbd>+<kbd>Enter</kbd>\n",
        "```\n",
        "y = 2\n",
        "```\n",
        "<kbd>shift</kbd>+<kbd>Enter</kbd>\n",
        "```\n",
        "y\n",
        "```\n",
        "<kbd>shift</kbd>+<kbd>Enter</kbd>\n",
        "```\n",
        "z = x + y\n",
        "```\n",
        "<kbd>shift</kbd>+<kbd>Enter</kbd>\n",
        "```\n",
        "z\n",
        "```\n",
        "<kbd>shift</kbd>+<kbd>Enter</kbd>"
      ]
    },
    {
      "cell_type": "markdown",
      "metadata": {
        "id": "XSJmmtDI172o",
        "school_cell_uuid": "35c0924185494ed7844c1f4c1d676c24"
      },
      "source": [
        "## 정수 연산\n",
        "<hr style=\"height:7px;border-width:0;color:gray;background-color:royalblue\">\n",
        "\n",
        "\n",
        "\n",
        "- 계산 결과가 출력되는 것을 볼 수 있다."
      ]
    },
    {
      "cell_type": "code",
      "metadata": {
        "id": "cXagJrwy172q",
        "school_cell_uuid": "2abd1aeeca474d6797b51450d7f47e93"
      },
      "source": [
        "1 + 1"
      ],
      "execution_count": null,
      "outputs": []
    },
    {
      "cell_type": "markdown",
      "metadata": {
        "id": "mJjWbjdl172t",
        "school_cell_uuid": "07e04579d74543a08507e39a5c5688ea"
      },
      "source": [
        "- 띄어쓰기에 유의할 것\n",
        "  - 띄어쓰기가 위와 달라도 계산은 된다. \n",
        "  - 하지만 파이썬에서 다음 코드처럼 띄어쓰는 것은 권장하지 않는다. \n",
        "  \n",
        "- 일반적인 띄어 쓰기 규칙\n",
        "  * 코드의 처음과 마지막에는 빈칸을 넣지 않는다.\n",
        "  * 빈칸은 항상 하나만 넣는다.\n",
        "  * 숫자나 연산 기호 사이는 한 칸을 띄운다.\n",
        "  * 괄호를 연 직후나 닫기 직전에는 빈칸을 넣지 않는다."
      ]
    },
    {
      "cell_type": "markdown",
      "metadata": {
        "id": "Rj_Q7paq172x",
        "school_cell_uuid": "9c7bd05940744150bf5b47e71cf2a013"
      },
      "source": [
        "# 연산 기호\n",
        "\n",
        "- 파이썬에서는 정수의 덧셈, 뺄셈, 곱셈, 나눗셈 등을 할 수 있음\n",
        "- 하지만 연산 기호는 수학에서 사용하는 것과 조금 다를 수 있다. \n",
        "  - 특히 나눗셈 연산은 두 가지 종류가 있다는 점에 주의한다.\n",
        "\n",
        "\n",
        "* $+$ : 키보드 <kbd>+</kbd> \n",
        "* $-$ : 키보드 <kbd>-</kbd>\n",
        "* $\\times$ : 키보드 <kbd>*</kbd>\n",
        "* $\\div$ (몫을 구하기) : 키보드 <kbd>/</kbd><kbd>/</kbd> (두 글자로 된 연산기호이므로 띄우지 않고 연속해서 기호를 타이핑한다.)\n",
        "* $\\div$ (소수점까지 나누기) : 키보드 <kbd>/</kbd>\n",
        "* 나머지 : 키보드 <kbd>%</kbd>\n",
        "* 제곱 : 키보드 <kbd>**</kbd>"
      ]
    },
    {
      "cell_type": "code",
      "metadata": {
        "id": "fB7uEX7R172x",
        "school_cell_uuid": "14c755d4fd074076aaf51ee84c526819"
      },
      "source": [
        "2 + 4 - 5"
      ],
      "execution_count": null,
      "outputs": []
    },
    {
      "cell_type": "code",
      "metadata": {
        "id": "02bCBTux172z",
        "school_cell_uuid": "24b2272c3567400581ef36a6e35928d4"
      },
      "source": [
        " 2 * 4"
      ],
      "execution_count": null,
      "outputs": []
    },
    {
      "cell_type": "code",
      "metadata": {
        "id": "2ovDnvcr1720",
        "school_cell_uuid": "c4aaa85ec22949d6b0a45e7a43cdd7ae"
      },
      "source": [
        "# 8을 4로 나눈 몫은 2\n",
        "\n",
        "8 // 4  "
      ],
      "execution_count": null,
      "outputs": []
    },
    {
      "cell_type": "code",
      "metadata": {
        "id": "vpxVP9fY1722",
        "school_cell_uuid": "0006198996ed4225922ceb68d824314b"
      },
      "source": [
        "# 11을 4로 나눈 몫은 2\n",
        "\n",
        "11 // 4  "
      ],
      "execution_count": null,
      "outputs": []
    },
    {
      "cell_type": "code",
      "metadata": {
        "id": "kyHX0t0p1724",
        "school_cell_uuid": "8676d1a4ed2a48beb4bbf619fe6eb577"
      },
      "source": [
        "# 11을 4로 나눈 나머지는 3\n",
        "\n",
        "11 % 4  "
      ],
      "execution_count": null,
      "outputs": []
    },
    {
      "cell_type": "code",
      "metadata": {
        "id": "Qz4IAGiv1726",
        "school_cell_uuid": "37af276060034836852f6d810c6a8b57"
      },
      "source": [
        "# 10/4 = 2.5\n",
        "\n",
        "10 / 4  "
      ],
      "execution_count": null,
      "outputs": []
    },
    {
      "cell_type": "code",
      "metadata": {
        "id": "iuYtHQEf1727",
        "school_cell_uuid": "36f40ffe7a06449eac8f36f581c44cef"
      },
      "source": [
        "# 2의 세제곱은 8\n",
        "\n",
        "2 ** 3  "
      ],
      "execution_count": null,
      "outputs": []
    },
    {
      "cell_type": "code",
      "metadata": {
        "id": "ON05PZQ21729",
        "school_cell_uuid": "36f40ffe7a06449eac8f36f581c44cef"
      },
      "source": [
        "# 음수 제곱은 역수. 2^(-1) = 1/2\n",
        "\n",
        "2 ** -1  "
      ],
      "execution_count": null,
      "outputs": []
    },
    {
      "cell_type": "code",
      "metadata": {
        "id": "pa8XVGbJ172-",
        "school_cell_uuid": "36f40ffe7a06449eac8f36f581c44cef"
      },
      "source": [
        "# 모든 수의 0제곱은 1\n",
        "\n",
        "1000 ** 0  "
      ],
      "execution_count": null,
      "outputs": []
    },
    {
      "cell_type": "markdown",
      "source": [
        "<div class=\"alert alert-block alert-info\">\n",
        "\n",
        "#### 연습 문제\n",
        "\n",
        "코드셀을 추가하여 다음 연산을 한다.\n",
        "\n",
        "1. $$ 3 \\times 2 - 8 \\div 4 $$\n",
        "\n",
        "1. $$ 25 \\times 6 \\div 3 + 17 $$\n",
        "\n",
        "1. $$ 39021 - 276920 \\div 12040 $$\n",
        "\n",
        "1. $$ 2^{6} - 10 \\; \\% \\; 6 $$\n",
        "\n",
        "\n",
        "위 식에서 $\\%$는 나머지를 구하는 연산이다.\n",
        "</div>\n"
      ],
      "metadata": {
        "id": "wCvrTrYSaVmz"
      }
    },
    {
      "cell_type": "markdown",
      "metadata": {
        "bootstrap": {
          "panel": {
            "class": "panel-default"
          }
        },
        "id": "rAh7i2_H172_",
        "school_cell_uuid": "be6be65903de4c6d9cacd0f933a27208"
      },
      "source": [
        "\n",
        "\n",
        "---\n",
        "\n"
      ]
    },
    {
      "cell_type": "markdown",
      "metadata": {
        "id": "xujRnR5j173A",
        "school_cell_uuid": "c8088d5fa40344c5b170c2ebc0da1287"
      },
      "source": [
        "## 연산 순서와 괄호"
      ]
    },
    {
      "cell_type": "markdown",
      "metadata": {
        "id": "WVPIjNVj173A",
        "school_cell_uuid": "020368bbe3dd4a76a858b6de9361c2ed"
      },
      "source": [
        "파이썬에서도 일반 수학의 연산 순서를 따른다. 즉, 곱셈과 나눗셈을 덧셈이나 뺄셈보다 먼저 한다. "
      ]
    },
    {
      "cell_type": "code",
      "execution_count": null,
      "metadata": {
        "id": "meLhQTj6173B",
        "school_cell_uuid": "224f1520295643a286b3a4f00cae92fd"
      },
      "outputs": [],
      "source": [
        "3 + 2 * 4"
      ]
    },
    {
      "cell_type": "code",
      "execution_count": null,
      "metadata": {
        "id": "c4tydG7O173C",
        "school_cell_uuid": "6a7d51be449b4789b047d1fd19b3aba5"
      },
      "outputs": [],
      "source": [
        "3 + (2 * 4)"
      ]
    },
    {
      "cell_type": "code",
      "execution_count": null,
      "metadata": {
        "id": "CgSIgVse173E",
        "school_cell_uuid": "e3249610d3b04dd487b2299738da2559"
      },
      "outputs": [],
      "source": [
        "(3 + 2) * 4"
      ]
    },
    {
      "cell_type": "markdown",
      "metadata": {
        "id": "SMSniGtm173F",
        "school_cell_uuid": "f2a4f827ff6e451fb827348f72fb0f7e"
      },
      "source": [
        "괄호가 있으면 괄호안을 먼저 계산. \n",
        "\n",
        "하지만 파이썬은 소괄호, 중괄호, 대괄호를 구분하지 않고 모두 소괄호 기호를 사용. \n",
        "\n",
        "예를 들어 아래 수식을 파이썬 코드로 나타내면.\n",
        "\n",
        "\n",
        "$$ 100 \\div \\Big[ 3 \\times \\big\\{ 10 - (3 \\times 2) \\big\\} + 8 \\Big]$$"
      ]
    },
    {
      "cell_type": "code",
      "execution_count": null,
      "metadata": {
        "id": "UYnMOU5y173G",
        "school_cell_uuid": "ddf20dabb6a743ffaa94a9ffaa22384d"
      },
      "outputs": [],
      "source": [
        "100 / (3 * (10 - (3 * 2)) + 8)"
      ]
    },
    {
      "cell_type": "markdown",
      "metadata": {
        "bootstrap": {
          "panel": {
            "class": "panel-default"
          }
        },
        "id": "OrHxqvG9173H",
        "school_cell_uuid": "7071dc15393c4baa85b969925854e418"
      },
      "source": [
        "연습 문제\n",
        "\n",
        "다음을 코드셀로 연산 한다.\n",
        "\n",
        "\n",
        "1. $$ 12 - (5 \\times 7  +  1)  $$\n",
        "\n",
        "2. $$ 5 \\times \\big\\{ 8 + (10 - 6) \\div 2 \\big\\} $$\n",
        "\n",
        "3. $$ 48320 - \\big\\{ (365 - 5 \\times 9) \\div 16 \\big\\} \\times 987 $$\n",
        "\n",
        "4. $$ ((3^4 - 3 \\times 7) \\; \\% \\; 5 + 4 )^ 2 $$\n"
      ]
    },
    {
      "cell_type": "markdown",
      "source": [
        "\n",
        "\n",
        "---\n",
        "\n"
      ],
      "metadata": {
        "id": "W0Om4lASW_qS"
      }
    },
    {
      "cell_type": "markdown",
      "metadata": {
        "id": "hpuO7tId173I",
        "school_cell_uuid": "b38d2b257b574b01b145b0beec3c3427"
      },
      "source": [
        "## 부등식의 참과 거짓 계산"
      ]
    },
    {
      "cell_type": "markdown",
      "metadata": {
        "id": "iLjIYHhMUVuH"
      },
      "source": [
        "```{margin}\n",
        "`True`, `False`\n",
        "```"
      ]
    },
    {
      "cell_type": "markdown",
      "metadata": {
        "id": "hlKneSuk173I",
        "school_cell_uuid": "9195daf890f64124b8f1d26aa1477e19"
      },
      "source": [
        "파이썬은 참과 거짓을 계산하는 부등식 연산도 할 수 있다. \n",
        "\n",
        "파이썬에서는 참과 거짓을 `True` 또는 `False` 라는 값으로 나타낸다. \n",
        "\n",
        "등호(=) 기호는 변수에 값을 할당하는데 사용되므로 \n",
        "\n",
        "비교 연산을 할 때는 등호 기호가 두 개 반복되는 기호를 사용한다는 점에 주의.\n",
        "\n",
        "* $ > $ :   키보드 <kbd>></kbd>\n",
        "* $ < $ :  키보드 <kbd><</kbd>\n",
        "* $ = $ : 키보드 <kbd>=</kbd><kbd>=</kbd>\n",
        "* $ \\neq $ : 키보드 <kbd>!</kbd><kbd>=</kbd>\n",
        "* $ \\geq $ : 키보드 <kbd>></kbd><kbd>=</kbd>\n",
        "* $ \\leq $ : 키보드 <kbd><</kbd><kbd>=</kbd>\n"
      ]
    },
    {
      "cell_type": "code",
      "execution_count": null,
      "metadata": {
        "id": "Tbw0TsQi173J",
        "school_cell_uuid": "bd911f13543940c99a6a88ffb67badee"
      },
      "outputs": [],
      "source": [
        "2 > 1"
      ]
    },
    {
      "cell_type": "code",
      "execution_count": null,
      "metadata": {
        "id": "wpy-rzKL173N",
        "school_cell_uuid": "bb5eee0157cb4d37aef16f06e2e8d267"
      },
      "outputs": [],
      "source": [
        "2 > 2"
      ]
    },
    {
      "cell_type": "code",
      "execution_count": null,
      "metadata": {
        "id": "zqUOgVug173P",
        "school_cell_uuid": "1c1091efd66444e999b31a23dc590a7f"
      },
      "outputs": [],
      "source": [
        "2 == 2"
      ]
    },
    {
      "cell_type": "code",
      "execution_count": null,
      "metadata": {
        "id": "tSG_6RXd173R",
        "school_cell_uuid": "2a22a962acf440308e17750dcbe87490"
      },
      "outputs": [],
      "source": [
        "2 != 1"
      ]
    },
    {
      "cell_type": "code",
      "execution_count": null,
      "metadata": {
        "id": "0Pt2VgDq173S",
        "school_cell_uuid": "720e893bef604d27abd6408dc8c14e1e"
      },
      "outputs": [],
      "source": [
        "3 <= 3"
      ]
    },
    {
      "cell_type": "markdown",
      "metadata": {
        "bootstrap": {
          "panel": {
            "class": "panel-default"
          }
        },
        "id": "FjQDw_ZE173V",
        "school_cell_uuid": "c600b3c749c54203865e703322e3489b"
      },
      "source": [
        " 연습문제 \n",
        "\n",
        "1. 코드셀 사용하여 답이 True 인 부등식을 3개를 만드세요.\n",
        "2. 코드셀 사용하여 답이 False 인 부등식을 3개를 만드세요.\n"
      ]
    },
    {
      "cell_type": "markdown",
      "source": [
        "\n",
        "\n",
        "---\n",
        "\n"
      ],
      "metadata": {
        "id": "bzSl2mm7Z7C_"
      }
    },
    {
      "cell_type": "markdown",
      "metadata": {
        "id": "Bcw9n8RE173V",
        "school_cell_uuid": "93e2f826e47c44dab181c94f46f0bd85"
      },
      "source": [
        "## 부울리언 대수"
      ]
    },
    {
      "cell_type": "markdown",
      "metadata": {
        "id": "oxF61WY1UVuJ"
      },
      "source": [
        "```{margin}\n",
        "부울리언 대수\n",
        "```"
      ]
    },
    {
      "cell_type": "markdown",
      "metadata": {
        "id": "GleQ7r9C173W",
        "school_cell_uuid": "cf8a84d037b94652aad3057c189d9b51"
      },
      "source": [
        "파이썬에서는 참과 거짓에 대해 <kbd>&</kbd> (AND) 라는 연산과 <kbd>|</kbd> (OR) 라는 부울리언 대수(Boolean algebra) 연산도 할 수 있다. \n",
        "\n",
        "* <kbd>&</kbd> (AND) 연산은 두 값이 모두 참일 때만 답이 참이 된다. 즉, 하나라도 거짓이면 답은 거짓이다.\n",
        "* <kbd>|</kbd> (OR) 연산은 두 값이 모두 거짓일 때만 답이 거짓이 된다. 즉, 하나라도 참이면 답은 참이다.\n"
      ]
    },
    {
      "cell_type": "markdown",
      "metadata": {
        "id": "zrgcQxIe173W",
        "school_cell_uuid": "0c8f265e1cd245b394fadaf721beb752"
      },
      "source": [
        "참고로 <kbd>|</kbd> 기호는 키보드 오른쪽 위의 원화(Korean Won) 표시 키를 <kbd>shift</kbd> 키와 동시에 눌러서 입력할 수 있다."
      ]
    },
    {
      "cell_type": "code",
      "execution_count": null,
      "metadata": {
        "id": "McisV3aM173a",
        "school_cell_uuid": "62dd6efa05dd4823a486689469e85a6c"
      },
      "outputs": [],
      "source": [
        "True & True"
      ]
    },
    {
      "cell_type": "code",
      "execution_count": null,
      "metadata": {
        "id": "_pjmR114173b",
        "school_cell_uuid": "92c275a6cabd444e93cfa347a300be73"
      },
      "outputs": [],
      "source": [
        "True & False"
      ]
    },
    {
      "cell_type": "code",
      "execution_count": null,
      "metadata": {
        "id": "qofBI18X173c",
        "school_cell_uuid": "c1efd034c65c43b0b7a7ff49d55aa5a7"
      },
      "outputs": [],
      "source": [
        "False & True"
      ]
    },
    {
      "cell_type": "code",
      "execution_count": null,
      "metadata": {
        "id": "_bQBr-bl173e",
        "school_cell_uuid": "d0a9836030974283adfcb8b4c01795c7"
      },
      "outputs": [],
      "source": [
        "False & False"
      ]
    },
    {
      "cell_type": "code",
      "execution_count": null,
      "metadata": {
        "id": "_YrbfrET173g",
        "school_cell_uuid": "2b7e09e4f9724448a7a17b3b5147d57b"
      },
      "outputs": [],
      "source": [
        "True | True"
      ]
    },
    {
      "cell_type": "code",
      "execution_count": null,
      "metadata": {
        "id": "iF2381G4173h",
        "school_cell_uuid": "563bdfefcf9748d4b6d46177dc07de96"
      },
      "outputs": [],
      "source": [
        "True | False"
      ]
    },
    {
      "cell_type": "code",
      "execution_count": null,
      "metadata": {
        "id": "RRX2rBLl173i",
        "school_cell_uuid": "91b919f2f34a486d9ab2333a3dc356c7"
      },
      "outputs": [],
      "source": [
        "False | True"
      ]
    },
    {
      "cell_type": "code",
      "execution_count": null,
      "metadata": {
        "id": "SwIy4-HR173j",
        "school_cell_uuid": "abd1bd9627c643ea88d9c40ff0226a57"
      },
      "outputs": [],
      "source": [
        "False | False"
      ]
    },
    {
      "cell_type": "markdown",
      "metadata": {
        "id": "mxMXnGZr173l",
        "school_cell_uuid": "ca18059e18be4766ae7534fe6482ece5"
      },
      "source": [
        "부등식 연산과 부울리언 대수를 결합하면 다음과 같은 계산도 할 수 있다."
      ]
    },
    {
      "cell_type": "code",
      "execution_count": null,
      "metadata": {
        "id": "1i3dBsjM173l",
        "school_cell_uuid": "2592fb689bf0457ab5511fcbb640fb3d"
      },
      "outputs": [],
      "source": [
        "(2 > 0) & (2 < 3)"
      ]
    },
    {
      "cell_type": "code",
      "execution_count": null,
      "metadata": {
        "id": "geAdUyNW173m",
        "school_cell_uuid": "4314293e28ae45e4a612770110537f7b"
      },
      "outputs": [],
      "source": [
        "(2 > 2) | (2 < 3)"
      ]
    },
    {
      "cell_type": "markdown",
      "metadata": {
        "bootstrap": {
          "panel": {
            "class": "panel-default"
          }
        },
        "id": "U5Cnm_zg173n",
        "school_cell_uuid": "2435279221fb41daaae9cf6bf204c097"
      },
      "source": [
        " 연습문제 \n",
        "\n",
        "다음 식의 값이 참인지 거짓인지 손으로 계산한 후에 파이썬으로 답을 확인해보세요.\n",
        "\n",
        "1. $$ (5 \\leq 6 ) \\; \\& \\; ( 3 = 4 ) $$\n",
        "2. $$ (2 \\neq 1 ) \\; | \\; ( 3 \\geq 4 ) $$\n",
        "3. $$ (5 \\leq 6 ) \\; \\& \\; (( 0 = 0 ) \\; | \\; ( 3 < 4 )) $$\n"
      ]
    },
    {
      "cell_type": "markdown",
      "source": [
        "\n",
        "\n",
        "---\n",
        "\n"
      ],
      "metadata": {
        "id": "iG1i7qLsbYfN"
      }
    },
    {
      "cell_type": "markdown",
      "metadata": {
        "id": "EQgCCzXs173o",
        "school_cell_uuid": "dbcd494f7cd24277aa473bdec99ee883"
      },
      "source": [
        "## 변수 사용하기"
      ]
    },
    {
      "cell_type": "markdown",
      "metadata": {
        "id": "zBzplOb4173o",
        "school_cell_uuid": "0670e4f15f6e4a78a9c76193841b29e0"
      },
      "source": [
        "어떤 값을 계속 사용할 때는 그 값을 변수(variable)에 담아두었다가 사용할 수 있다. 변수에 값을 넣는 것을 할당(assignment)한다고 이야기한다. 변수에 값을 할당할 때는 등호 기호를 사용하고 좌변에는 할당할 변수 이름을, 우변에는 할당할 값을 쓴다.\n",
        "\n",
        "```\n",
        "변수이름 = 변수값\n",
        "```\n",
        "\n",
        "변수의 이름은 알파벳으로 시작하며 뒤에는 숫자가 올 수 있다. 파이썬에서는 변수 이름의 대문자와 소문자를 구분하므로 주의하여야 한다. 즉, `apple` 과 `Apple` 과 `APPLE` 은 모두 서로 다른 변수이다."
      ]
    },
    {
      "cell_type": "code",
      "execution_count": null,
      "metadata": {
        "id": "livdfU-8173p",
        "outputId": "7ef183a7-5e59-49b7-930d-c3d567d09df4",
        "school_cell_uuid": "37e200af60df4adba20a4678a77184a2"
      },
      "outputs": [
        {
          "data": {
            "text/plain": [
              "6"
            ]
          },
          "execution_count": 32,
          "metadata": {
            "tags": []
          },
          "output_type": "execute_result"
        }
      ],
      "source": [
        "a = 2\n",
        "b = 3\n",
        "a * b"
      ]
    },
    {
      "cell_type": "code",
      "execution_count": null,
      "metadata": {
        "id": "u6VxN_co173q",
        "outputId": "2af52725-f2d2-4476-abd1-8daf84549899",
        "school_cell_uuid": "2d565b4a46ba422ebd227bbead9756a5"
      },
      "outputs": [
        {
          "data": {
            "text/plain": [
              "True"
            ]
          },
          "execution_count": 33,
          "metadata": {
            "tags": []
          },
          "output_type": "execute_result"
        }
      ],
      "source": [
        "a = 4\n",
        "(a > 0) & (a <= 10)"
      ]
    },
    {
      "cell_type": "markdown",
      "metadata": {
        "bootstrap": {
          "panel": {
            "class": "panel-default"
          }
        },
        "id": "jmGBCPj0173r",
        "school_cell_uuid": "0d7e8b3d9415420d9f44f90b250fec42"
      },
      "source": [
        "```{admonition} 연습문제 2.1.5\n",
        "\n",
        "변수들의 값을 바꾸어 가면서 다음 수식을 계산해 보자.\n",
        "\n",
        "1. $$ (2x - 1)^2 + 1 $$\n",
        "2. $$ x^{2y}\\cdot(z + 10) $$\n",
        "3. $$ (( j = 0 ) \\; \\& \\; ( 0 < k )) \\; | \\; (i \\leq 100 ) $$\n",
        "\n",
        "```"
      ]
    },
    {
      "cell_type": "code",
      "execution_count": null,
      "metadata": {
        "id": "0BXJBbT-UVuM"
      },
      "outputs": [],
      "source": [
        ""
      ]
    }
  ]
}